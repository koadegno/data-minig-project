{
 "cells": [
  {
   "cell_type": "code",
   "execution_count": 1,
   "metadata": {},
   "outputs": [],
   "source": [
    "from typing import List\n",
    "import pandas as pd\n",
    "import numpy as np\n",
    "import matplotlib.pyplot as plt\n",
    "import seaborn as sns\n",
    "from pathlib import Path\n",
    "from tqdm import tqdm\n",
    "import plot_functions as plt_fct"
   ]
  },
  {
   "cell_type": "code",
   "execution_count": 13,
   "metadata": {},
   "outputs": [],
   "source": [
    "def get_data(chunks_stop=None):\n",
    "    chunks = []\n",
    "    chunks_folder = Path(\"chucks\")\n",
    "\n",
    "    print(\"Gathering dataset\")\n",
    "    chunks_counter = 1\n",
    "    if chunks_stop is None:\n",
    "        chunks_stop = -1\n",
    "\n",
    "    for chunk in tqdm(chunks_folder.iterdir()):\n",
    "        chunks.append(pd.read_csv(chunk, sep=\";\", parse_dates=True, index_col=\"timestamps_UTC\"))\n",
    "        if chunks_counter == chunks_stop:\n",
    "            break\n",
    "        chunks_counter += 1\n",
    "\n",
    "    data = pd.concat(chunks)\n",
    "    print(data.head())\n",
    "    return data\n",
    "\n",
    "\n",
    "chunks_reader = pd.read_csv(\"ar41_with_k_algo.csv\", sep=\",\", parse_dates=True, index_col=\"timestamps_UTC\",chunksize=10)"
   ]
  },
  {
   "cell_type": "code",
   "execution_count": 14,
   "metadata": {},
   "outputs": [],
   "source": [
    "for chunk in chunks_reader:\n",
    "\tdf = chunk\n",
    "\tbreak"
   ]
  },
  {
   "cell_type": "code",
   "execution_count": 4,
   "metadata": {},
   "outputs": [
    {
     "name": "stdout",
     "output_type": "stream",
     "text": [
      "[2, 1, 0, 4, 3]\n",
      "[2 1 1 ... 2 1 0]\n"
     ]
    }
   ],
   "source": [
    "result_type = df[\"cluster\"].unique().tolist()\n",
    "print(result_type)\n",
    "result = df[\"cluster\"].to_numpy()\n",
    "print(result)\n",
    "features_list = [\n",
    "    \"RS_E_InAirTemp_PC1\",\n",
    "    \"RS_E_InAirTemp_PC2\",\n",
    "    \"RS_E_OilPress_PC1\",\n",
    "    \"RS_E_OilPress_PC2\",\n",
    "    \"RS_E_RPM_PC1\",\n",
    "    \"RS_E_RPM_PC2\",\n",
    "    \"RS_E_WatTemp_PC1\",\n",
    "    \"RS_E_WatTemp_PC2\",\n",
    "    \"RS_T_OilTemp_PC1\",\n",
    "    \"RS_T_OilTemp_PC2\",\n",
    "    \"temperature\",\n",
    "    \"precipitation\",\n",
    "    \"windspeed_10m\",\n",
    "    \"sum_pollen\",\n",
    "]\n",
    "results_folder = Path(\"result_k_algo\")\n",
    "result_filename = \"k_algo\"\n",
    "data_values = df[features_list].to_numpy()"
   ]
  },
  {
   "cell_type": "code",
   "execution_count": 5,
   "metadata": {},
   "outputs": [
    {
     "name": "stderr",
     "output_type": "stream",
     "text": [
      "0it [00:00, ?it/s]\n"
     ]
    },
    {
     "ename": "ValueError",
     "evalue": "zero-size array to reduction operation minimum which has no identity",
     "output_type": "error",
     "traceback": [
      "\u001b[1;31m---------------------------------------------------------------------------\u001b[0m",
      "\u001b[1;31mValueError\u001b[0m                                Traceback (most recent call last)",
      "\u001b[1;32mc:\\Users\\Django\\Documents\\ULB\\2023-2024\\Q1\\INFO-H423 - Data Mining\\data-minig-project\\analyses.ipynb Cell 5\u001b[0m line \u001b[0;36m1\n\u001b[1;32m----> <a href='vscode-notebook-cell:/c%3A/Users/Django/Documents/ULB/2023-2024/Q1/INFO-H423%20-%20Data%20Mining/data-minig-project/analyses.ipynb#X10sZmlsZQ%3D%3D?line=0'>1</a>\u001b[0m plt_fct\u001b[39m.\u001b[39;49mplot_feature_distribution(\n\u001b[0;32m      <a href='vscode-notebook-cell:/c%3A/Users/Django/Documents/ULB/2023-2024/Q1/INFO-H423%20-%20Data%20Mining/data-minig-project/analyses.ipynb#X10sZmlsZQ%3D%3D?line=1'>2</a>\u001b[0m     results_folder,\n\u001b[0;32m      <a href='vscode-notebook-cell:/c%3A/Users/Django/Documents/ULB/2023-2024/Q1/INFO-H423%20-%20Data%20Mining/data-minig-project/analyses.ipynb#X10sZmlsZQ%3D%3D?line=2'>3</a>\u001b[0m     result_filename,\n\u001b[0;32m      <a href='vscode-notebook-cell:/c%3A/Users/Django/Documents/ULB/2023-2024/Q1/INFO-H423%20-%20Data%20Mining/data-minig-project/analyses.ipynb#X10sZmlsZQ%3D%3D?line=3'>4</a>\u001b[0m     data_values,\n\u001b[0;32m      <a href='vscode-notebook-cell:/c%3A/Users/Django/Documents/ULB/2023-2024/Q1/INFO-H423%20-%20Data%20Mining/data-minig-project/analyses.ipynb#X10sZmlsZQ%3D%3D?line=4'>5</a>\u001b[0m     result,\n\u001b[0;32m      <a href='vscode-notebook-cell:/c%3A/Users/Django/Documents/ULB/2023-2024/Q1/INFO-H423%20-%20Data%20Mining/data-minig-project/analyses.ipynb#X10sZmlsZQ%3D%3D?line=5'>6</a>\u001b[0m     features_list,\n\u001b[0;32m      <a href='vscode-notebook-cell:/c%3A/Users/Django/Documents/ULB/2023-2024/Q1/INFO-H423%20-%20Data%20Mining/data-minig-project/analyses.ipynb#X10sZmlsZQ%3D%3D?line=6'>7</a>\u001b[0m     result_type,\n\u001b[0;32m      <a href='vscode-notebook-cell:/c%3A/Users/Django/Documents/ULB/2023-2024/Q1/INFO-H423%20-%20Data%20Mining/data-minig-project/analyses.ipynb#X10sZmlsZQ%3D%3D?line=7'>8</a>\u001b[0m )\n",
      "File \u001b[1;32mc:\\Users\\Django\\Documents\\ULB\\2023-2024\\Q1\\INFO-H423 - Data Mining\\data-minig-project\\plot_functions.py:56\u001b[0m, in \u001b[0;36mplot_feature_distribution\u001b[1;34m(results_folder, result_filename, data_values, result, features_list, result_type)\u001b[0m\n\u001b[0;32m     52\u001b[0m cluster_median \u001b[39m=\u001b[39m [\u001b[39m0\u001b[39m \u001b[39mfor\u001b[39;00m _ \u001b[39min\u001b[39;00m \u001b[39mrange\u001b[39m(\u001b[39mlen\u001b[39m(cluster_data_values))]\n\u001b[0;32m     53\u001b[0m \u001b[39mfor\u001b[39;00m cluster_type, cluster_list \u001b[39min\u001b[39;00m cluster_data_values\u001b[39m.\u001b[39mitems():\n\u001b[0;32m     54\u001b[0m \n\u001b[0;32m     55\u001b[0m     \u001b[39m# compute bins\u001b[39;00m\n\u001b[1;32m---> 56\u001b[0m     min_value \u001b[39m=\u001b[39m cluster_list[:, i]\u001b[39m.\u001b[39;49mmin()\n\u001b[0;32m     57\u001b[0m     max_value \u001b[39m=\u001b[39m cluster_list[:, i]\u001b[39m.\u001b[39mmax()\n\u001b[0;32m     58\u001b[0m     cluster_min_list\u001b[39m.\u001b[39mappend(min_value)\n",
      "File \u001b[1;32mc:\\Users\\Django\\AppData\\Local\\Programs\\Python\\Python310\\lib\\site-packages\\numpy\\core\\_methods.py:45\u001b[0m, in \u001b[0;36m_amin\u001b[1;34m(a, axis, out, keepdims, initial, where)\u001b[0m\n\u001b[0;32m     43\u001b[0m \u001b[39mdef\u001b[39;00m \u001b[39m_amin\u001b[39m(a, axis\u001b[39m=\u001b[39m\u001b[39mNone\u001b[39;00m, out\u001b[39m=\u001b[39m\u001b[39mNone\u001b[39;00m, keepdims\u001b[39m=\u001b[39m\u001b[39mFalse\u001b[39;00m,\n\u001b[0;32m     44\u001b[0m           initial\u001b[39m=\u001b[39m_NoValue, where\u001b[39m=\u001b[39m\u001b[39mTrue\u001b[39;00m):\n\u001b[1;32m---> 45\u001b[0m     \u001b[39mreturn\u001b[39;00m umr_minimum(a, axis, \u001b[39mNone\u001b[39;49;00m, out, keepdims, initial, where)\n",
      "\u001b[1;31mValueError\u001b[0m: zero-size array to reduction operation minimum which has no identity"
     ]
    },
    {
     "data": {
      "text/plain": [
       "<Figure size 800x600 with 0 Axes>"
      ]
     },
     "metadata": {},
     "output_type": "display_data"
    }
   ],
   "source": [
    "plt_fct.plot_feature_distribution(\n",
    "    results_folder,\n",
    "    result_filename,\n",
    "    data_values,\n",
    "    result,\n",
    "    features_list,\n",
    "    result_type,\n",
    ")"
   ]
  },
  {
   "cell_type": "code",
   "execution_count": null,
   "metadata": {},
   "outputs": [],
   "source": []
  },
  {
   "cell_type": "code",
   "execution_count": null,
   "metadata": {},
   "outputs": [],
   "source": []
  },
  {
   "cell_type": "code",
   "execution_count": null,
   "metadata": {},
   "outputs": [],
   "source": []
  },
  {
   "cell_type": "code",
   "execution_count": null,
   "metadata": {},
   "outputs": [],
   "source": []
  }
 ],
 "metadata": {
  "kernelspec": {
   "display_name": "Python 3",
   "language": "python",
   "name": "python3"
  },
  "language_info": {
   "codemirror_mode": {
    "name": "ipython",
    "version": 3
   },
   "file_extension": ".py",
   "mimetype": "text/x-python",
   "name": "python",
   "nbconvert_exporter": "python",
   "pygments_lexer": "ipython3",
   "version": "3.10.5"
  }
 },
 "nbformat": 4,
 "nbformat_minor": 2
}
