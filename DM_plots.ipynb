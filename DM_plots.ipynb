{
 "cells": [
  {
   "cell_type": "code",
   "execution_count": null,
   "metadata": {},
   "outputs": [],
   "source": [
    "import pandas as pd\n",
    "import numpy as np\n",
    "import matplotlib.pyplot as plt"
   ]
  },
  {
   "cell_type": "code",
   "execution_count": null,
   "metadata": {},
   "outputs": [],
   "source": [
    "df = pd.read_csv('ar41_for_ulb.csv', sep=\";\")\n",
    "df = df.drop_duplicates()"
   ]
  },
  {
   "cell_type": "markdown",
   "metadata": {},
   "source": [
    "Drop duplicates"
   ]
  },
  {
   "cell_type": "code",
   "execution_count": null,
   "metadata": {},
   "outputs": [],
   "source": [
    "df_dropped = df.dropna()"
   ]
  },
  {
   "cell_type": "markdown",
   "metadata": {},
   "source": [
    "Drop rows where both motors are off"
   ]
  },
  {
   "cell_type": "code",
   "execution_count": null,
   "metadata": {},
   "outputs": [],
   "source": [
    "df_motor_stopped = (df_dropped['RS_E_RPM_PC1'] == 0) & (df_dropped['RS_E_RPM_PC2'] == 0)\n",
    "df_dropped = df_dropped[~df_motor_stopped] \n",
    "\n",
    "\n"
   ]
  },
  {
   "cell_type": "code",
   "execution_count": null,
   "metadata": {},
   "outputs": [],
   "source": [
    "features = ['RS_E_InAirTemp', 'RS_E_OilPress', 'RS_E_RPM', 'RS_E_WatTemp', 'RS_T_OilTemp']"
   ]
  },
  {
   "cell_type": "code",
   "execution_count": null,
   "metadata": {},
   "outputs": [],
   "source": [
    "for feature in features:\n",
    "    pc1_values = df_dropped[f'{feature}_PC1']\n",
    "    pc2_values = df_dropped[f'{feature}_PC2']\n",
    "    combined_values = pd.concat([pc1_values, pc2_values])\n",
    "\n",
    "    hist, bins = np.histogram(combined_values, bins='auto')\n",
    "\n",
    "    plt.figure(figsize=(12, 6))\n",
    "    plt.bar(bins[:-1], hist, width=(bins[1]-bins[0]), color='skyblue', edgecolor='black')\n",
    "\n",
    "    plt.title(f'Histogram of {feature}', size=15)\n",
    "    plt.xlabel(feature, size=12)\n",
    "    plt.ylabel('Quantity', size=12)\n",
    "\n",
    "    #plt.show()\n",
    "    plt.savefig(f'before_{feature}.png')\n",
    "    "
   ]
  },
  {
   "cell_type": "code",
   "execution_count": null,
   "metadata": {},
   "outputs": [],
   "source": [
    "location_counts = df.groupby(['lat', 'lon']).size().reset_index(name='count')\n",
    "\n",
    "plt.figure(figsize=(12, 8))\n",
    "plt.scatter(location_counts['lon'], location_counts['lat'], s=location_counts['count']*10, alpha=0.5)\n",
    "\n",
    "plt.title('Density of coordinates', size=15)\n",
    "plt.xlabel('Longitude', size=12)\n",
    "plt.ylabel('Latitude', size=12)\n",
    "\n",
    "plt.show()"
   ]
  },
  {
   "cell_type": "markdown",
   "metadata": {},
   "source": [
    "Clean in_air_temp\n",
    "- Remove values outside of range [0, 100] -> sensor problem : values outside are not possible"
   ]
  },
  {
   "cell_type": "code",
   "execution_count": null,
   "metadata": {},
   "outputs": [],
   "source": [
    "df_dropped = df_dropped[(df_dropped['RS_E_InAirTemp_PC1'] >= 0) & (df_dropped['RS_E_InAirTemp_PC1'] <= 100)]\n",
    "df_dropped = df_dropped[(df_dropped['RS_E_InAirTemp_PC2'] >= 0) & (df_dropped['RS_E_InAirTemp_PC2'] <= 100)]"
   ]
  },
  {
   "cell_type": "markdown",
   "metadata": {},
   "source": [
    "Clean oil_press\n"
   ]
  },
  {
   "cell_type": "markdown",
   "metadata": {},
   "source": [
    "Clean RPM"
   ]
  },
  {
   "cell_type": "code",
   "execution_count": null,
   "metadata": {},
   "outputs": [],
   "source": [
    "df_dropped = df_dropped[(df_dropped['RS_E_RPM_PC1'] > 0) & (df_dropped['RS_E_RPM_PC1'] <= 2100)]\n",
    "df_dropped = df_dropped[(df_dropped['RS_E_RPM_PC2'] > 0) & (df_dropped['RS_E_RPM_PC2'] <= 2100)]"
   ]
  },
  {
   "cell_type": "markdown",
   "metadata": {},
   "source": [
    "Clean water_temp\n",
    "- Remove values outside of range [0, 100] -> sensor problem : values outside are abnormal"
   ]
  },
  {
   "cell_type": "code",
   "execution_count": null,
   "metadata": {},
   "outputs": [],
   "source": [
    "df_dropped = df_dropped[(df_dropped['RS_E_WatTemp_PC1'] >= 0) & (df_dropped['RS_E_WatTemp_PC1'] <= 100)]\n",
    "df_dropped = df_dropped[(df_dropped['RS_E_WatTemp_PC2'] >= 0) & (df_dropped['RS_E_WatTemp_PC2'] <= 100)]"
   ]
  },
  {
   "cell_type": "markdown",
   "metadata": {},
   "source": [
    "Clean oil_temp\n",
    "- Remove values outside of range [0, 150] -> sensor problem : values outside are abnormal"
   ]
  },
  {
   "cell_type": "code",
   "execution_count": null,
   "metadata": {},
   "outputs": [],
   "source": [
    "df_dropped = df_dropped[(df_dropped['RS_T_OilTemp_PC1'] >= 0) & (df_dropped['RS_T_OilTemp_PC1'] <= 150)]\n",
    "df_dropped = df_dropped[(df_dropped['RS_T_OilTemp_PC2'] >= 0) & (df_dropped['RS_T_OilTemp_PC2'] <= 150)]"
   ]
  },
  {
   "cell_type": "markdown",
   "metadata": {},
   "source": [
    "Clean coordinates"
   ]
  },
  {
   "cell_type": "code",
   "execution_count": null,
   "metadata": {},
   "outputs": [],
   "source": [
    "len(df_dropped)"
   ]
  },
  {
   "cell_type": "code",
   "execution_count": null,
   "metadata": {},
   "outputs": [],
   "source": [
    "for feature in features:\n",
    "    pc1_values = df_dropped[f'{feature}_PC1']\n",
    "    pc2_values = df_dropped[f'{feature}_PC2']\n",
    "    combined_values = pd.concat([pc1_values, pc2_values])\n",
    "\n",
    "    hist, bins = np.histogram(combined_values, bins='auto')\n",
    "\n",
    "    plt.figure(figsize=(12, 6))\n",
    "    plt.bar(bins[:-1], hist, width=(bins[1]-bins[0]), color='skyblue', edgecolor='black')\n",
    "\n",
    "    plt.title(f'Histogram of {feature}', size=15)\n",
    "    plt.xlabel(feature, size=12)\n",
    "    plt.ylabel('Quantity', size=12)\n",
    "\n",
    "    plt.show()\n",
    "    plt.savefig(f'after_{feature}.png')"
   ]
  }
 ],
 "metadata": {
  "kernelspec": {
   "display_name": "Python 3",
   "language": "python",
   "name": "python3"
  },
  "language_info": {
   "codemirror_mode": {
    "name": "ipython",
    "version": 3
   },
   "file_extension": ".py",
   "mimetype": "text/x-python",
   "name": "python",
   "nbconvert_exporter": "python",
   "pygments_lexer": "ipython3",
   "version": "3.10.12"
  }
 },
 "nbformat": 4,
 "nbformat_minor": 2
}
